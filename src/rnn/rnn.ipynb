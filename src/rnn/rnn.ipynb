{
 "cells": [
  {
   "cell_type": "markdown",
   "id": "b755f521",
   "metadata": {},
   "source": [
    "## Import necessary libraries"
   ]
  },
  {
   "cell_type": "code",
   "execution_count": 11,
   "id": "4dc7fa4f",
   "metadata": {},
   "outputs": [],
   "source": [
    "import pandas as pd\n",
    "import numpy as np\n",
    "import sys\n",
    "import tensorflow as tf\n",
    "from sklearn.metrics import f1_score\n",
    "\n",
    "sys.path.append('../../src')\n",
    "from rnn.rnn_from_scratch import SimpleRNNModel\n",
    "from utils.data_preprocessing import TextPreprocessor\n",
    "from rnn.model_training import create_keras_rnn\n",
    "\n",
    "import warnings\n",
    "warnings.filterwarnings(\"ignore\")\n"
   ]
  },
  {
   "cell_type": "code",
   "execution_count": 12,
   "id": "72923359",
   "metadata": {},
   "outputs": [
    {
     "data": {
      "text/html": [
       "<div>\n",
       "<style scoped>\n",
       "    .dataframe tbody tr th:only-of-type {\n",
       "        vertical-align: middle;\n",
       "    }\n",
       "\n",
       "    .dataframe tbody tr th {\n",
       "        vertical-align: top;\n",
       "    }\n",
       "\n",
       "    .dataframe thead th {\n",
       "        text-align: right;\n",
       "    }\n",
       "</style>\n",
       "<table border=\"1\" class=\"dataframe\">\n",
       "  <thead>\n",
       "    <tr style=\"text-align: right;\">\n",
       "      <th></th>\n",
       "      <th>text</th>\n",
       "      <th>label</th>\n",
       "    </tr>\n",
       "    <tr>\n",
       "      <th>id</th>\n",
       "      <th></th>\n",
       "      <th></th>\n",
       "    </tr>\n",
       "  </thead>\n",
       "  <tbody>\n",
       "    <tr>\n",
       "      <th>219</th>\n",
       "      <td>Nikmati cicilan 0% hingga 12 bulan untuk pemes...</td>\n",
       "      <td>neutral</td>\n",
       "    </tr>\n",
       "    <tr>\n",
       "      <th>209</th>\n",
       "      <td>Kue-kue yang disajikan bikin saya bernostalgia...</td>\n",
       "      <td>positive</td>\n",
       "    </tr>\n",
       "    <tr>\n",
       "      <th>436</th>\n",
       "      <td>Ibu pernah bekerja di grab indonesia</td>\n",
       "      <td>neutral</td>\n",
       "    </tr>\n",
       "    <tr>\n",
       "      <th>394</th>\n",
       "      <td>Paling suka banget makan siang di sini ayam sa...</td>\n",
       "      <td>positive</td>\n",
       "    </tr>\n",
       "    <tr>\n",
       "      <th>592</th>\n",
       "      <td>Pelayanan bus DAMRI sangat baik</td>\n",
       "      <td>positive</td>\n",
       "    </tr>\n",
       "  </tbody>\n",
       "</table>\n",
       "</div>"
      ],
      "text/plain": [
       "                                                  text     label\n",
       "id                                                              \n",
       "219  Nikmati cicilan 0% hingga 12 bulan untuk pemes...   neutral\n",
       "209  Kue-kue yang disajikan bikin saya bernostalgia...  positive\n",
       "436               Ibu pernah bekerja di grab indonesia   neutral\n",
       "394  Paling suka banget makan siang di sini ayam sa...  positive\n",
       "592                    Pelayanan bus DAMRI sangat baik  positive"
      ]
     },
     "execution_count": 12,
     "metadata": {},
     "output_type": "execute_result"
    }
   ],
   "source": [
    "train = pd.read_csv('../../datasets/train.csv', index_col='id')\n",
    "valid = pd.read_csv('../../datasets/valid.csv', index_col='id')\n",
    "test = pd.read_csv('../../datasets/test.csv', index_col='id')\n",
    "train.head()"
   ]
  },
  {
   "cell_type": "code",
   "execution_count": 13,
   "id": "86a0ed7e",
   "metadata": {},
   "outputs": [
    {
     "data": {
      "text/html": [
       "<div>\n",
       "<style scoped>\n",
       "    .dataframe tbody tr th:only-of-type {\n",
       "        vertical-align: middle;\n",
       "    }\n",
       "\n",
       "    .dataframe tbody tr th {\n",
       "        vertical-align: top;\n",
       "    }\n",
       "\n",
       "    .dataframe thead th {\n",
       "        text-align: right;\n",
       "    }\n",
       "</style>\n",
       "<table border=\"1\" class=\"dataframe\">\n",
       "  <thead>\n",
       "    <tr style=\"text-align: right;\">\n",
       "      <th></th>\n",
       "      <th>text</th>\n",
       "      <th>label</th>\n",
       "    </tr>\n",
       "    <tr>\n",
       "      <th>id</th>\n",
       "      <th></th>\n",
       "      <th></th>\n",
       "    </tr>\n",
       "  </thead>\n",
       "  <tbody>\n",
       "    <tr>\n",
       "      <th>411</th>\n",
       "      <td>Dekat dengan hotel saya menginap, hanya ditemp...</td>\n",
       "      <td>positive</td>\n",
       "    </tr>\n",
       "    <tr>\n",
       "      <th>729</th>\n",
       "      <td>Iya benar, dia sedang jaga warung.</td>\n",
       "      <td>neutral</td>\n",
       "    </tr>\n",
       "    <tr>\n",
       "      <th>373</th>\n",
       "      <td>Kangkungnya lumayan tapi kepiting saus padangn...</td>\n",
       "      <td>negative</td>\n",
       "    </tr>\n",
       "    <tr>\n",
       "      <th>262</th>\n",
       "      <td>Bertempat di braga city walk yang satu gedung ...</td>\n",
       "      <td>positive</td>\n",
       "    </tr>\n",
       "    <tr>\n",
       "      <th>177</th>\n",
       "      <td>Gianyar terima bantuan sosial 2018 sebesar rp ...</td>\n",
       "      <td>neutral</td>\n",
       "    </tr>\n",
       "  </tbody>\n",
       "</table>\n",
       "</div>"
      ],
      "text/plain": [
       "                                                  text     label\n",
       "id                                                              \n",
       "411  Dekat dengan hotel saya menginap, hanya ditemp...  positive\n",
       "729                 Iya benar, dia sedang jaga warung.   neutral\n",
       "373  Kangkungnya lumayan tapi kepiting saus padangn...  negative\n",
       "262  Bertempat di braga city walk yang satu gedung ...  positive\n",
       "177  Gianyar terima bantuan sosial 2018 sebesar rp ...   neutral"
      ]
     },
     "execution_count": 13,
     "metadata": {},
     "output_type": "execute_result"
    }
   ],
   "source": [
    "test.head()"
   ]
  },
  {
   "cell_type": "code",
   "execution_count": 14,
   "id": "99383786",
   "metadata": {},
   "outputs": [
    {
     "name": "stdout",
     "output_type": "stream",
     "text": [
      "<class 'pandas.core.frame.DataFrame'>\n",
      "Index: 500 entries, 219 to 719\n",
      "Data columns (total 2 columns):\n",
      " #   Column  Non-Null Count  Dtype \n",
      "---  ------  --------------  ----- \n",
      " 0   text    500 non-null    object\n",
      " 1   label   500 non-null    object\n",
      "dtypes: object(2)\n",
      "memory usage: 11.7+ KB\n"
     ]
    }
   ],
   "source": [
    "train.info()"
   ]
  },
  {
   "cell_type": "code",
   "execution_count": 15,
   "id": "4c1c7a96",
   "metadata": {},
   "outputs": [
    {
     "name": "stdout",
     "output_type": "stream",
     "text": [
      "<class 'pandas.core.frame.DataFrame'>\n",
      "Index: 400 entries, 411 to 768\n",
      "Data columns (total 2 columns):\n",
      " #   Column  Non-Null Count  Dtype \n",
      "---  ------  --------------  ----- \n",
      " 0   text    400 non-null    object\n",
      " 1   label   400 non-null    object\n",
      "dtypes: object(2)\n",
      "memory usage: 9.4+ KB\n"
     ]
    }
   ],
   "source": [
    "test.info()"
   ]
  },
  {
   "cell_type": "markdown",
   "id": "4ffe7ddf",
   "metadata": {},
   "source": [
    "## Preprocessing"
   ]
  },
  {
   "cell_type": "code",
   "execution_count": 16,
   "id": "ce979d0d",
   "metadata": {},
   "outputs": [
    {
     "name": "stdout",
     "output_type": "stream",
     "text": [
      "Vocab size: 2796\n",
      "Num classes: 3\n",
      "Sequence shape: (500, 100)\n",
      "Labels distribution: [192 119 189]\n"
     ]
    }
   ],
   "source": [
    "preprocessor = TextPreprocessor(vocab_size=10000, max_length=100)\n",
    "processed_data = preprocessor.preprocess_dataset(train, valid, test, use_vectorizer=False)\n",
    "\n",
    "train_seq = processed_data['train_sequences']\n",
    "val_seq = processed_data['val_sequences']\n",
    "test_seq = processed_data['test_sequences']\n",
    "train_labels = processed_data['train_labels']\n",
    "val_labels = processed_data['val_labels']\n",
    "test_labels = processed_data['test_labels']\n",
    "\n",
    "vocab_size = processed_data['vocab_size']\n",
    "num_classes = processed_data['num_classes']\n",
    "\n",
    "print(f\"Vocab size: {vocab_size}\")\n",
    "print(f\"Num classes: {num_classes}\")\n",
    "print(f\"Sequence shape: {train_seq.shape}\")\n",
    "print(f\"Labels distribution: {np.bincount(train_labels)}\")"
   ]
  },
  {
   "cell_type": "markdown",
   "id": "38daa932",
   "metadata": {},
   "source": [
    "## Modelling"
   ]
  },
  {
   "cell_type": "code",
   "execution_count": 17,
   "id": "cae8d96d",
   "metadata": {},
   "outputs": [],
   "source": [
    "configs = {\n",
    "    # Pengaruh jumlah layer (3 variasi)\n",
    "    'rnn_1layer': {'hidden_sizes': [64], 'bidirectional': False},\n",
    "    'rnn_2layer': {'hidden_sizes': [64, 32], 'bidirectional': False},\n",
    "    'rnn_3layer': {'hidden_sizes': [64, 32, 16], 'bidirectional': False},\n",
    "    \n",
    "    # Pengaruh banyak cell (3 variasi)\n",
    "    'rnn_cells_32': {'hidden_sizes': [32, 32], 'bidirectional': False},\n",
    "    'rnn_cells_64': {'hidden_sizes': [64, 64], 'bidirectional': False},\n",
    "    'rnn_cells_128': {'hidden_sizes': [128, 128], 'bidirectional': False},\n",
    "    \n",
    "    # Pengaruh arah (2 variasi)\n",
    "    'rnn_unidirectional': {'hidden_sizes': [64, 32], 'bidirectional': False},\n",
    "    'rnn_bidirectional': {'hidden_sizes': [64, 32], 'bidirectional': True}\n",
    "}"
   ]
  },
  {
   "cell_type": "code",
   "execution_count": 18,
   "id": "5fe01e99",
   "metadata": {},
   "outputs": [
    {
     "name": "stdout",
     "output_type": "stream",
     "text": [
      "\n",
      "Training rnn_1layer...\n",
      "Epoch 1/10\n",
      "\u001b[1m16/16\u001b[0m \u001b[32m━━━━━━━━━━━━━━━━━━━━\u001b[0m\u001b[37m\u001b[0m \u001b[1m1s\u001b[0m 21ms/step - accuracy: 0.3310 - loss: 1.1105 - val_accuracy: 0.3800 - val_loss: 1.0813\n",
      "Epoch 2/10\n",
      "\u001b[1m16/16\u001b[0m \u001b[32m━━━━━━━━━━━━━━━━━━━━\u001b[0m\u001b[37m\u001b[0m \u001b[1m0s\u001b[0m 11ms/step - accuracy: 0.4802 - loss: 1.0120 - val_accuracy: 0.3700 - val_loss: 1.1509\n",
      "Epoch 3/10\n",
      "\u001b[1m16/16\u001b[0m \u001b[32m━━━━━━━━━━━━━━━━━━━━\u001b[0m\u001b[37m\u001b[0m \u001b[1m0s\u001b[0m 12ms/step - accuracy: 0.7061 - loss: 0.7850 - val_accuracy: 0.4100 - val_loss: 1.1573\n",
      "Epoch 4/10\n",
      "\u001b[1m16/16\u001b[0m \u001b[32m━━━━━━━━━━━━━━━━━━━━\u001b[0m\u001b[37m\u001b[0m \u001b[1m0s\u001b[0m 12ms/step - accuracy: 0.9083 - loss: 0.4690 - val_accuracy: 0.3900 - val_loss: 1.2227\n",
      "Epoch 5/10\n",
      "\u001b[1m16/16\u001b[0m \u001b[32m━━━━━━━━━━━━━━━━━━━━\u001b[0m\u001b[37m\u001b[0m \u001b[1m0s\u001b[0m 14ms/step - accuracy: 0.9935 - loss: 0.2204 - val_accuracy: 0.4600 - val_loss: 1.2008\n",
      "Epoch 6/10\n",
      "\u001b[1m16/16\u001b[0m \u001b[32m━━━━━━━━━━━━━━━━━━━━\u001b[0m\u001b[37m\u001b[0m \u001b[1m0s\u001b[0m 12ms/step - accuracy: 0.9975 - loss: 0.1041 - val_accuracy: 0.4600 - val_loss: 1.2994\n",
      "Epoch 7/10\n",
      "\u001b[1m16/16\u001b[0m \u001b[32m━━━━━━━━━━━━━━━━━━━━\u001b[0m\u001b[37m\u001b[0m \u001b[1m0s\u001b[0m 13ms/step - accuracy: 0.9990 - loss: 0.0581 - val_accuracy: 0.4500 - val_loss: 1.3197\n",
      "Epoch 8/10\n",
      "\u001b[1m16/16\u001b[0m \u001b[32m━━━━━━━━━━━━━━━━━━━━\u001b[0m\u001b[37m\u001b[0m \u001b[1m0s\u001b[0m 16ms/step - accuracy: 1.0000 - loss: 0.0384 - val_accuracy: 0.5000 - val_loss: 1.4076\n",
      "Epoch 9/10\n",
      "\u001b[1m16/16\u001b[0m \u001b[32m━━━━━━━━━━━━━━━━━━━━\u001b[0m\u001b[37m\u001b[0m \u001b[1m0s\u001b[0m 13ms/step - accuracy: 1.0000 - loss: 0.0225 - val_accuracy: 0.5000 - val_loss: 1.3485\n",
      "Epoch 10/10\n",
      "\u001b[1m16/16\u001b[0m \u001b[32m━━━━━━━━━━━━━━━━━━━━\u001b[0m\u001b[37m\u001b[0m \u001b[1m0s\u001b[0m 11ms/step - accuracy: 1.0000 - loss: 0.0165 - val_accuracy: 0.4700 - val_loss: 1.4012\n",
      "\u001b[1m13/13\u001b[0m \u001b[32m━━━━━━━━━━━━━━━━━━━━\u001b[0m\u001b[37m\u001b[0m \u001b[1m0s\u001b[0m 9ms/step\n"
     ]
    },
    {
     "name": "stderr",
     "output_type": "stream",
     "text": [
      "WARNING:absl:You are saving your model as an HDF5 file via `model.save()` or `keras.saving.save_model(model)`. This file format is considered legacy. We recommend using instead the native Keras format, e.g. `model.save('my_model.keras')` or `keras.saving.save_model(model, 'my_model.keras')`. \n"
     ]
    },
    {
     "name": "stdout",
     "output_type": "stream",
     "text": [
      "✅ rnn_1layer - F1: 0.4329\n",
      "\n",
      "Training rnn_2layer...\n",
      "Epoch 1/10\n",
      "\u001b[1m16/16\u001b[0m \u001b[32m━━━━━━━━━━━━━━━━━━━━\u001b[0m\u001b[37m\u001b[0m \u001b[1m2s\u001b[0m 30ms/step - accuracy: 0.3641 - loss: 1.1673 - val_accuracy: 0.3800 - val_loss: 1.0806\n",
      "Epoch 2/10\n",
      "\u001b[1m16/16\u001b[0m \u001b[32m━━━━━━━━━━━━━━━━━━━━\u001b[0m\u001b[37m\u001b[0m \u001b[1m0s\u001b[0m 17ms/step - accuracy: 0.3670 - loss: 1.1388 - val_accuracy: 0.4000 - val_loss: 1.1410\n",
      "Epoch 3/10\n",
      "\u001b[1m16/16\u001b[0m \u001b[32m━━━━━━━━━━━━━━━━━━━━\u001b[0m\u001b[37m\u001b[0m \u001b[1m0s\u001b[0m 17ms/step - accuracy: 0.4944 - loss: 1.0256 - val_accuracy: 0.4600 - val_loss: 1.1511\n",
      "Epoch 4/10\n",
      "\u001b[1m16/16\u001b[0m \u001b[32m━━━━━━━━━━━━━━━━━━━━\u001b[0m\u001b[37m\u001b[0m \u001b[1m0s\u001b[0m 17ms/step - accuracy: 0.5558 - loss: 0.9478 - val_accuracy: 0.4300 - val_loss: 1.2856\n",
      "Epoch 5/10\n",
      "\u001b[1m16/16\u001b[0m \u001b[32m━━━━━━━━━━━━━━━━━━━━\u001b[0m\u001b[37m\u001b[0m \u001b[1m0s\u001b[0m 17ms/step - accuracy: 0.6701 - loss: 0.7342 - val_accuracy: 0.5100 - val_loss: 1.3623\n",
      "Epoch 6/10\n",
      "\u001b[1m16/16\u001b[0m \u001b[32m━━━━━━━━━━━━━━━━━━━━\u001b[0m\u001b[37m\u001b[0m \u001b[1m0s\u001b[0m 17ms/step - accuracy: 0.7057 - loss: 0.6517 - val_accuracy: 0.4300 - val_loss: 1.5872\n",
      "Epoch 7/10\n",
      "\u001b[1m16/16\u001b[0m \u001b[32m━━━━━━━━━━━━━━━━━━━━\u001b[0m\u001b[37m\u001b[0m \u001b[1m0s\u001b[0m 17ms/step - accuracy: 0.7667 - loss: 0.5617 - val_accuracy: 0.4400 - val_loss: 1.6479\n",
      "Epoch 8/10\n",
      "\u001b[1m16/16\u001b[0m \u001b[32m━━━━━━━━━━━━━━━━━━━━\u001b[0m\u001b[37m\u001b[0m \u001b[1m0s\u001b[0m 17ms/step - accuracy: 0.7442 - loss: 0.5410 - val_accuracy: 0.4500 - val_loss: 1.7051\n",
      "Epoch 9/10\n",
      "\u001b[1m16/16\u001b[0m \u001b[32m━━━━━━━━━━━━━━━━━━━━\u001b[0m\u001b[37m\u001b[0m \u001b[1m0s\u001b[0m 18ms/step - accuracy: 0.9174 - loss: 0.3013 - val_accuracy: 0.5200 - val_loss: 1.5875\n",
      "Epoch 10/10\n",
      "\u001b[1m16/16\u001b[0m \u001b[32m━━━━━━━━━━━━━━━━━━━━\u001b[0m\u001b[37m\u001b[0m \u001b[1m0s\u001b[0m 17ms/step - accuracy: 0.9463 - loss: 0.2351 - val_accuracy: 0.4900 - val_loss: 1.8493\n",
      "\u001b[1m13/13\u001b[0m \u001b[32m━━━━━━━━━━━━━━━━━━━━\u001b[0m\u001b[37m\u001b[0m \u001b[1m0s\u001b[0m 16ms/step\n"
     ]
    },
    {
     "name": "stderr",
     "output_type": "stream",
     "text": [
      "WARNING:absl:You are saving your model as an HDF5 file via `model.save()` or `keras.saving.save_model(model)`. This file format is considered legacy. We recommend using instead the native Keras format, e.g. `model.save('my_model.keras')` or `keras.saving.save_model(model, 'my_model.keras')`. \n"
     ]
    },
    {
     "name": "stdout",
     "output_type": "stream",
     "text": [
      "✅ rnn_2layer - F1: 0.3913\n",
      "\n",
      "Training rnn_3layer...\n",
      "Epoch 1/10\n",
      "\u001b[1m16/16\u001b[0m \u001b[32m━━━━━━━━━━━━━━━━━━━━\u001b[0m\u001b[37m\u001b[0m \u001b[1m3s\u001b[0m 41ms/step - accuracy: 0.3176 - loss: 1.2354 - val_accuracy: 0.4000 - val_loss: 1.1028\n",
      "Epoch 2/10\n",
      "\u001b[1m16/16\u001b[0m \u001b[32m━━━━━━━━━━━━━━━━━━━━\u001b[0m\u001b[37m\u001b[0m \u001b[1m0s\u001b[0m 24ms/step - accuracy: 0.4668 - loss: 1.0632 - val_accuracy: 0.4100 - val_loss: 1.1835\n",
      "Epoch 3/10\n",
      "\u001b[1m16/16\u001b[0m \u001b[32m━━━━━━━━━━━━━━━━━━━━\u001b[0m\u001b[37m\u001b[0m \u001b[1m0s\u001b[0m 25ms/step - accuracy: 0.4821 - loss: 1.0167 - val_accuracy: 0.3900 - val_loss: 1.2388\n",
      "Epoch 4/10\n",
      "\u001b[1m16/16\u001b[0m \u001b[32m━━━━━━━━━━━━━━━━━━━━\u001b[0m\u001b[37m\u001b[0m \u001b[1m0s\u001b[0m 25ms/step - accuracy: 0.5981 - loss: 0.8772 - val_accuracy: 0.4900 - val_loss: 1.1934\n",
      "Epoch 5/10\n",
      "\u001b[1m16/16\u001b[0m \u001b[32m━━━━━━━━━━━━━━━━━━━━\u001b[0m\u001b[37m\u001b[0m \u001b[1m0s\u001b[0m 25ms/step - accuracy: 0.6630 - loss: 0.7592 - val_accuracy: 0.4500 - val_loss: 1.3126\n",
      "Epoch 6/10\n",
      "\u001b[1m16/16\u001b[0m \u001b[32m━━━━━━━━━━━━━━━━━━━━\u001b[0m\u001b[37m\u001b[0m \u001b[1m0s\u001b[0m 25ms/step - accuracy: 0.7934 - loss: 0.5739 - val_accuracy: 0.4100 - val_loss: 1.3591\n",
      "Epoch 7/10\n",
      "\u001b[1m16/16\u001b[0m \u001b[32m━━━━━━━━━━━━━━━━━━━━\u001b[0m\u001b[37m\u001b[0m \u001b[1m0s\u001b[0m 25ms/step - accuracy: 0.8674 - loss: 0.4594 - val_accuracy: 0.4500 - val_loss: 1.4708\n",
      "Epoch 8/10\n",
      "\u001b[1m16/16\u001b[0m \u001b[32m━━━━━━━━━━━━━━━━━━━━\u001b[0m\u001b[37m\u001b[0m \u001b[1m0s\u001b[0m 25ms/step - accuracy: 0.9040 - loss: 0.3835 - val_accuracy: 0.4800 - val_loss: 1.6066\n",
      "Epoch 9/10\n",
      "\u001b[1m16/16\u001b[0m \u001b[32m━━━━━━━━━━━━━━━━━━━━\u001b[0m\u001b[37m\u001b[0m \u001b[1m0s\u001b[0m 25ms/step - accuracy: 0.9549 - loss: 0.2618 - val_accuracy: 0.4300 - val_loss: 1.7085\n",
      "Epoch 10/10\n",
      "\u001b[1m16/16\u001b[0m \u001b[32m━━━━━━━━━━━━━━━━━━━━\u001b[0m\u001b[37m\u001b[0m \u001b[1m0s\u001b[0m 26ms/step - accuracy: 0.9346 - loss: 0.2896 - val_accuracy: 0.5400 - val_loss: 1.6156\n",
      "\u001b[1m13/13\u001b[0m \u001b[32m━━━━━━━━━━━━━━━━━━━━\u001b[0m\u001b[37m\u001b[0m \u001b[1m0s\u001b[0m 25ms/step\n"
     ]
    },
    {
     "name": "stderr",
     "output_type": "stream",
     "text": [
      "WARNING:absl:You are saving your model as an HDF5 file via `model.save()` or `keras.saving.save_model(model)`. This file format is considered legacy. We recommend using instead the native Keras format, e.g. `model.save('my_model.keras')` or `keras.saving.save_model(model, 'my_model.keras')`. \n"
     ]
    },
    {
     "name": "stdout",
     "output_type": "stream",
     "text": [
      "✅ rnn_3layer - F1: 0.4168\n",
      "\n",
      "Training rnn_cells_32...\n",
      "Epoch 1/10\n",
      "\u001b[1m16/16\u001b[0m \u001b[32m━━━━━━━━━━━━━━━━━━━━\u001b[0m\u001b[37m\u001b[0m \u001b[1m2s\u001b[0m 33ms/step - accuracy: 0.3305 - loss: 1.1611 - val_accuracy: 0.3800 - val_loss: 1.0946\n",
      "Epoch 2/10\n",
      "\u001b[1m16/16\u001b[0m \u001b[32m━━━━━━━━━━━━━━━━━━━━\u001b[0m\u001b[37m\u001b[0m \u001b[1m0s\u001b[0m 19ms/step - accuracy: 0.4392 - loss: 1.0568 - val_accuracy: 0.3800 - val_loss: 1.1674\n",
      "Epoch 3/10\n",
      "\u001b[1m16/16\u001b[0m \u001b[32m━━━━━━━━━━━━━━━━━━━━\u001b[0m\u001b[37m\u001b[0m \u001b[1m0s\u001b[0m 18ms/step - accuracy: 0.7117 - loss: 0.7632 - val_accuracy: 0.3500 - val_loss: 1.2757\n",
      "Epoch 4/10\n",
      "\u001b[1m16/16\u001b[0m \u001b[32m━━━━━━━━━━━━━━━━━━━━\u001b[0m\u001b[37m\u001b[0m \u001b[1m0s\u001b[0m 18ms/step - accuracy: 0.9031 - loss: 0.4555 - val_accuracy: 0.3800 - val_loss: 1.3483\n",
      "Epoch 5/10\n",
      "\u001b[1m16/16\u001b[0m \u001b[32m━━━━━━━━━━━━━━━━━━━━\u001b[0m\u001b[37m\u001b[0m \u001b[1m0s\u001b[0m 18ms/step - accuracy: 0.9661 - loss: 0.1919 - val_accuracy: 0.4400 - val_loss: 1.3601\n",
      "Epoch 6/10\n",
      "\u001b[1m16/16\u001b[0m \u001b[32m━━━━━━━━━━━━━━━━━━━━\u001b[0m\u001b[37m\u001b[0m \u001b[1m0s\u001b[0m 18ms/step - accuracy: 1.0000 - loss: 0.0849 - val_accuracy: 0.4400 - val_loss: 1.4527\n",
      "Epoch 7/10\n",
      "\u001b[1m16/16\u001b[0m \u001b[32m━━━━━━━━━━━━━━━━━━━━\u001b[0m\u001b[37m\u001b[0m \u001b[1m0s\u001b[0m 18ms/step - accuracy: 1.0000 - loss: 0.0433 - val_accuracy: 0.4100 - val_loss: 1.6044\n",
      "Epoch 8/10\n",
      "\u001b[1m16/16\u001b[0m \u001b[32m━━━━━━━━━━━━━━━━━━━━\u001b[0m\u001b[37m\u001b[0m \u001b[1m0s\u001b[0m 19ms/step - accuracy: 1.0000 - loss: 0.0288 - val_accuracy: 0.4000 - val_loss: 1.6101\n",
      "Epoch 9/10\n",
      "\u001b[1m16/16\u001b[0m \u001b[32m━━━━━━━━━━━━━━━━━━━━\u001b[0m\u001b[37m\u001b[0m \u001b[1m0s\u001b[0m 20ms/step - accuracy: 1.0000 - loss: 0.0168 - val_accuracy: 0.4100 - val_loss: 1.6480\n",
      "Epoch 10/10\n",
      "\u001b[1m16/16\u001b[0m \u001b[32m━━━━━━━━━━━━━━━━━━━━\u001b[0m\u001b[37m\u001b[0m \u001b[1m0s\u001b[0m 18ms/step - accuracy: 1.0000 - loss: 0.0138 - val_accuracy: 0.4000 - val_loss: 1.6842\n",
      "\u001b[1m13/13\u001b[0m \u001b[32m━━━━━━━━━━━━━━━━━━━━\u001b[0m\u001b[37m\u001b[0m \u001b[1m0s\u001b[0m 18ms/step\n"
     ]
    },
    {
     "name": "stderr",
     "output_type": "stream",
     "text": [
      "WARNING:absl:You are saving your model as an HDF5 file via `model.save()` or `keras.saving.save_model(model)`. This file format is considered legacy. We recommend using instead the native Keras format, e.g. `model.save('my_model.keras')` or `keras.saving.save_model(model, 'my_model.keras')`. \n"
     ]
    },
    {
     "name": "stdout",
     "output_type": "stream",
     "text": [
      "✅ rnn_cells_32 - F1: 0.3849\n",
      "\n",
      "Training rnn_cells_64...\n",
      "Epoch 1/10\n",
      "\u001b[1m16/16\u001b[0m \u001b[32m━━━━━━━━━━━━━━━━━━━━\u001b[0m\u001b[37m\u001b[0m \u001b[1m2s\u001b[0m 63ms/step - accuracy: 0.3156 - loss: 1.1898 - val_accuracy: 0.4100 - val_loss: 1.1105\n",
      "Epoch 2/10\n",
      "\u001b[1m16/16\u001b[0m \u001b[32m━━━━━━━━━━━━━━━━━━━━\u001b[0m\u001b[37m\u001b[0m \u001b[1m0s\u001b[0m 23ms/step - accuracy: 0.4099 - loss: 1.0570 - val_accuracy: 0.4800 - val_loss: 1.0311\n",
      "Epoch 3/10\n",
      "\u001b[1m16/16\u001b[0m \u001b[32m━━━━━━━━━━━━━━━━━━━━\u001b[0m\u001b[37m\u001b[0m \u001b[1m0s\u001b[0m 21ms/step - accuracy: 0.7247 - loss: 0.7651 - val_accuracy: 0.3000 - val_loss: 1.4031\n",
      "Epoch 4/10\n",
      "\u001b[1m16/16\u001b[0m \u001b[32m━━━━━━━━━━━━━━━━━━━━\u001b[0m\u001b[37m\u001b[0m \u001b[1m0s\u001b[0m 22ms/step - accuracy: 0.8755 - loss: 0.4083 - val_accuracy: 0.3800 - val_loss: 1.6066\n",
      "Epoch 5/10\n",
      "\u001b[1m16/16\u001b[0m \u001b[32m━━━━━━━━━━━━━━━━━━━━\u001b[0m\u001b[37m\u001b[0m \u001b[1m0s\u001b[0m 22ms/step - accuracy: 0.9730 - loss: 0.1389 - val_accuracy: 0.3500 - val_loss: 1.9349\n",
      "Epoch 6/10\n",
      "\u001b[1m16/16\u001b[0m \u001b[32m━━━━━━━━━━━━━━━━━━━━\u001b[0m\u001b[37m\u001b[0m \u001b[1m0s\u001b[0m 23ms/step - accuracy: 0.9949 - loss: 0.0506 - val_accuracy: 0.3500 - val_loss: 2.3325\n",
      "Epoch 7/10\n",
      "\u001b[1m16/16\u001b[0m \u001b[32m━━━━━━━━━━━━━━━━━━━━\u001b[0m\u001b[37m\u001b[0m \u001b[1m0s\u001b[0m 22ms/step - accuracy: 1.0000 - loss: 0.0268 - val_accuracy: 0.3100 - val_loss: 2.3861\n",
      "Epoch 8/10\n",
      "\u001b[1m16/16\u001b[0m \u001b[32m━━━━━━━━━━━━━━━━━━━━\u001b[0m\u001b[37m\u001b[0m \u001b[1m0s\u001b[0m 22ms/step - accuracy: 1.0000 - loss: 0.0111 - val_accuracy: 0.3200 - val_loss: 2.3758\n",
      "Epoch 9/10\n",
      "\u001b[1m16/16\u001b[0m \u001b[32m━━━━━━━━━━━━━━━━━━━━\u001b[0m\u001b[37m\u001b[0m \u001b[1m0s\u001b[0m 22ms/step - accuracy: 1.0000 - loss: 0.0076 - val_accuracy: 0.3000 - val_loss: 2.5109\n",
      "Epoch 10/10\n",
      "\u001b[1m16/16\u001b[0m \u001b[32m━━━━━━━━━━━━━━━━━━━━\u001b[0m\u001b[37m\u001b[0m \u001b[1m0s\u001b[0m 22ms/step - accuracy: 1.0000 - loss: 0.0058 - val_accuracy: 0.3100 - val_loss: 2.5092\n",
      "\u001b[1m13/13\u001b[0m \u001b[32m━━━━━━━━━━━━━━━━━━━━\u001b[0m\u001b[37m\u001b[0m \u001b[1m0s\u001b[0m 19ms/step\n"
     ]
    },
    {
     "name": "stderr",
     "output_type": "stream",
     "text": [
      "WARNING:absl:You are saving your model as an HDF5 file via `model.save()` or `keras.saving.save_model(model)`. This file format is considered legacy. We recommend using instead the native Keras format, e.g. `model.save('my_model.keras')` or `keras.saving.save_model(model, 'my_model.keras')`. \n"
     ]
    },
    {
     "name": "stdout",
     "output_type": "stream",
     "text": [
      "✅ rnn_cells_64 - F1: 0.3523\n",
      "\n",
      "Training rnn_cells_128...\n",
      "Epoch 1/10\n",
      "\u001b[1m16/16\u001b[0m \u001b[32m━━━━━━━━━━━━━━━━━━━━\u001b[0m\u001b[37m\u001b[0m \u001b[1m2s\u001b[0m 37ms/step - accuracy: 0.3671 - loss: 1.1491 - val_accuracy: 0.4400 - val_loss: 1.1100\n",
      "Epoch 2/10\n",
      "\u001b[1m16/16\u001b[0m \u001b[32m━━━━━━━━━━━━━━━━━━━━\u001b[0m\u001b[37m\u001b[0m \u001b[1m0s\u001b[0m 25ms/step - accuracy: 0.3114 - loss: 1.2129 - val_accuracy: 0.3900 - val_loss: 1.0749\n",
      "Epoch 3/10\n",
      "\u001b[1m16/16\u001b[0m \u001b[32m━━━━━━━━━━━━━━━━━━━━\u001b[0m\u001b[37m\u001b[0m \u001b[1m0s\u001b[0m 24ms/step - accuracy: 0.3781 - loss: 1.1565 - val_accuracy: 0.3300 - val_loss: 1.1515\n",
      "Epoch 4/10\n",
      "\u001b[1m16/16\u001b[0m \u001b[32m━━━━━━━━━━━━━━━━━━━━\u001b[0m\u001b[37m\u001b[0m \u001b[1m0s\u001b[0m 26ms/step - accuracy: 0.3861 - loss: 1.1421 - val_accuracy: 0.3200 - val_loss: 1.1124\n",
      "Epoch 5/10\n",
      "\u001b[1m16/16\u001b[0m \u001b[32m━━━━━━━━━━━━━━━━━━━━\u001b[0m\u001b[37m\u001b[0m \u001b[1m0s\u001b[0m 25ms/step - accuracy: 0.3538 - loss: 1.1970 - val_accuracy: 0.3800 - val_loss: 1.0993\n",
      "Epoch 6/10\n",
      "\u001b[1m16/16\u001b[0m \u001b[32m━━━━━━━━━━━━━━━━━━━━\u001b[0m\u001b[37m\u001b[0m \u001b[1m0s\u001b[0m 27ms/step - accuracy: 0.3405 - loss: 1.2161 - val_accuracy: 0.4100 - val_loss: 1.0756\n",
      "Epoch 7/10\n",
      "\u001b[1m16/16\u001b[0m \u001b[32m━━━━━━━━━━━━━━━━━━━━\u001b[0m\u001b[37m\u001b[0m \u001b[1m0s\u001b[0m 28ms/step - accuracy: 0.3761 - loss: 1.1566 - val_accuracy: 0.4400 - val_loss: 1.0624\n",
      "Epoch 8/10\n",
      "\u001b[1m16/16\u001b[0m \u001b[32m━━━━━━━━━━━━━━━━━━━━\u001b[0m\u001b[37m\u001b[0m \u001b[1m0s\u001b[0m 24ms/step - accuracy: 0.3467 - loss: 1.2107 - val_accuracy: 0.3800 - val_loss: 1.1455\n",
      "Epoch 9/10\n",
      "\u001b[1m16/16\u001b[0m \u001b[32m━━━━━━━━━━━━━━━━━━━━\u001b[0m\u001b[37m\u001b[0m \u001b[1m0s\u001b[0m 27ms/step - accuracy: 0.3796 - loss: 1.1424 - val_accuracy: 0.3700 - val_loss: 1.1995\n",
      "Epoch 10/10\n",
      "\u001b[1m16/16\u001b[0m \u001b[32m━━━━━━━━━━━━━━━━━━━━\u001b[0m\u001b[37m\u001b[0m \u001b[1m0s\u001b[0m 24ms/step - accuracy: 0.3220 - loss: 1.1726 - val_accuracy: 0.3600 - val_loss: 1.1135\n",
      "\u001b[1m13/13\u001b[0m \u001b[32m━━━━━━━━━━━━━━━━━━━━\u001b[0m\u001b[37m\u001b[0m \u001b[1m0s\u001b[0m 20ms/step\n"
     ]
    },
    {
     "name": "stderr",
     "output_type": "stream",
     "text": [
      "WARNING:absl:You are saving your model as an HDF5 file via `model.save()` or `keras.saving.save_model(model)`. This file format is considered legacy. We recommend using instead the native Keras format, e.g. `model.save('my_model.keras')` or `keras.saving.save_model(model, 'my_model.keras')`. \n"
     ]
    },
    {
     "name": "stdout",
     "output_type": "stream",
     "text": [
      "✅ rnn_cells_128 - F1: 0.2346\n",
      "\n",
      "Training rnn_unidirectional...\n",
      "Epoch 1/10\n",
      "\u001b[1m16/16\u001b[0m \u001b[32m━━━━━━━━━━━━━━━━━━━━\u001b[0m\u001b[37m\u001b[0m \u001b[1m2s\u001b[0m 32ms/step - accuracy: 0.3450 - loss: 1.1607 - val_accuracy: 0.3900 - val_loss: 1.0892\n",
      "Epoch 2/10\n",
      "\u001b[1m16/16\u001b[0m \u001b[32m━━━━━━━━━━━━━━━━━━━━\u001b[0m\u001b[37m\u001b[0m \u001b[1m0s\u001b[0m 18ms/step - accuracy: 0.4024 - loss: 1.0918 - val_accuracy: 0.4000 - val_loss: 1.1493\n",
      "Epoch 3/10\n",
      "\u001b[1m16/16\u001b[0m \u001b[32m━━━━━━━━━━━━━━━━━━━━\u001b[0m\u001b[37m\u001b[0m \u001b[1m0s\u001b[0m 18ms/step - accuracy: 0.6301 - loss: 0.8146 - val_accuracy: 0.2800 - val_loss: 1.4062\n",
      "Epoch 4/10\n",
      "\u001b[1m16/16\u001b[0m \u001b[32m━━━━━━━━━━━━━━━━━━━━\u001b[0m\u001b[37m\u001b[0m \u001b[1m0s\u001b[0m 18ms/step - accuracy: 0.7760 - loss: 0.5808 - val_accuracy: 0.4500 - val_loss: 1.4552\n",
      "Epoch 5/10\n",
      "\u001b[1m16/16\u001b[0m \u001b[32m━━━━━━━━━━━━━━━━━━━━\u001b[0m\u001b[37m\u001b[0m \u001b[1m0s\u001b[0m 18ms/step - accuracy: 0.9368 - loss: 0.2738 - val_accuracy: 0.4200 - val_loss: 1.6437\n",
      "Epoch 6/10\n",
      "\u001b[1m16/16\u001b[0m \u001b[32m━━━━━━━━━━━━━━━━━━━━\u001b[0m\u001b[37m\u001b[0m \u001b[1m0s\u001b[0m 18ms/step - accuracy: 0.9881 - loss: 0.1485 - val_accuracy: 0.4100 - val_loss: 1.8211\n",
      "Epoch 7/10\n",
      "\u001b[1m16/16\u001b[0m \u001b[32m━━━━━━━━━━━━━━━━━━━━\u001b[0m\u001b[37m\u001b[0m \u001b[1m0s\u001b[0m 18ms/step - accuracy: 0.9988 - loss: 0.0632 - val_accuracy: 0.4100 - val_loss: 1.9693\n",
      "Epoch 8/10\n",
      "\u001b[1m16/16\u001b[0m \u001b[32m━━━━━━━━━━━━━━━━━━━━\u001b[0m\u001b[37m\u001b[0m \u001b[1m0s\u001b[0m 19ms/step - accuracy: 1.0000 - loss: 0.0331 - val_accuracy: 0.3800 - val_loss: 1.9377\n",
      "Epoch 9/10\n",
      "\u001b[1m16/16\u001b[0m \u001b[32m━━━━━━━━━━━━━━━━━━━━\u001b[0m\u001b[37m\u001b[0m \u001b[1m0s\u001b[0m 18ms/step - accuracy: 1.0000 - loss: 0.0203 - val_accuracy: 0.3800 - val_loss: 1.9820\n",
      "Epoch 10/10\n",
      "\u001b[1m16/16\u001b[0m \u001b[32m━━━━━━━━━━━━━━━━━━━━\u001b[0m\u001b[37m\u001b[0m \u001b[1m0s\u001b[0m 17ms/step - accuracy: 1.0000 - loss: 0.0145 - val_accuracy: 0.3900 - val_loss: 2.1617\n",
      "\u001b[1m13/13\u001b[0m \u001b[32m━━━━━━━━━━━━━━━━━━━━\u001b[0m\u001b[37m\u001b[0m \u001b[1m0s\u001b[0m 17ms/step\n"
     ]
    },
    {
     "name": "stderr",
     "output_type": "stream",
     "text": [
      "WARNING:absl:You are saving your model as an HDF5 file via `model.save()` or `keras.saving.save_model(model)`. This file format is considered legacy. We recommend using instead the native Keras format, e.g. `model.save('my_model.keras')` or `keras.saving.save_model(model, 'my_model.keras')`. \n"
     ]
    },
    {
     "name": "stdout",
     "output_type": "stream",
     "text": [
      "✅ rnn_unidirectional - F1: 0.3922\n",
      "\n",
      "Training rnn_bidirectional...\n",
      "Epoch 1/10\n",
      "\u001b[1m16/16\u001b[0m \u001b[32m━━━━━━━━━━━━━━━━━━━━\u001b[0m\u001b[37m\u001b[0m \u001b[1m4s\u001b[0m 47ms/step - accuracy: 0.3467 - loss: 1.1513 - val_accuracy: 0.4300 - val_loss: 1.0573\n",
      "Epoch 2/10\n",
      "\u001b[1m16/16\u001b[0m \u001b[32m━━━━━━━━━━━━━━━━━━━━\u001b[0m\u001b[37m\u001b[0m \u001b[1m0s\u001b[0m 28ms/step - accuracy: 0.6127 - loss: 0.8414 - val_accuracy: 0.5400 - val_loss: 0.9613\n",
      "Epoch 3/10\n",
      "\u001b[1m16/16\u001b[0m \u001b[32m━━━━━━━━━━━━━━━━━━━━\u001b[0m\u001b[37m\u001b[0m \u001b[1m1s\u001b[0m 31ms/step - accuracy: 0.8938 - loss: 0.4975 - val_accuracy: 0.5600 - val_loss: 0.9467\n",
      "Epoch 4/10\n",
      "\u001b[1m16/16\u001b[0m \u001b[32m━━━━━━━━━━━━━━━━━━━━\u001b[0m\u001b[37m\u001b[0m \u001b[1m1s\u001b[0m 32ms/step - accuracy: 0.9824 - loss: 0.1941 - val_accuracy: 0.5900 - val_loss: 0.9734\n",
      "Epoch 5/10\n",
      "\u001b[1m16/16\u001b[0m \u001b[32m━━━━━━━━━━━━━━━━━━━━\u001b[0m\u001b[37m\u001b[0m \u001b[1m1s\u001b[0m 32ms/step - accuracy: 0.9979 - loss: 0.0702 - val_accuracy: 0.5800 - val_loss: 1.0903\n",
      "Epoch 6/10\n",
      "\u001b[1m16/16\u001b[0m \u001b[32m━━━━━━━━━━━━━━━━━━━━\u001b[0m\u001b[37m\u001b[0m \u001b[1m1s\u001b[0m 32ms/step - accuracy: 1.0000 - loss: 0.0290 - val_accuracy: 0.5700 - val_loss: 1.1304\n",
      "Epoch 7/10\n",
      "\u001b[1m16/16\u001b[0m \u001b[32m━━━━━━━━━━━━━━━━━━━━\u001b[0m\u001b[37m\u001b[0m \u001b[1m1s\u001b[0m 35ms/step - accuracy: 1.0000 - loss: 0.0188 - val_accuracy: 0.5900 - val_loss: 1.1353\n",
      "Epoch 8/10\n",
      "\u001b[1m16/16\u001b[0m \u001b[32m━━━━━━━━━━━━━━━━━━━━\u001b[0m\u001b[37m\u001b[0m \u001b[1m1s\u001b[0m 32ms/step - accuracy: 1.0000 - loss: 0.0126 - val_accuracy: 0.5300 - val_loss: 1.2032\n",
      "Epoch 9/10\n",
      "\u001b[1m16/16\u001b[0m \u001b[32m━━━━━━━━━━━━━━━━━━━━\u001b[0m\u001b[37m\u001b[0m \u001b[1m1s\u001b[0m 32ms/step - accuracy: 1.0000 - loss: 0.0102 - val_accuracy: 0.5500 - val_loss: 1.2068\n",
      "Epoch 10/10\n",
      "\u001b[1m16/16\u001b[0m \u001b[32m━━━━━━━━━━━━━━━━━━━━\u001b[0m\u001b[37m\u001b[0m \u001b[1m1s\u001b[0m 32ms/step - accuracy: 1.0000 - loss: 0.0074 - val_accuracy: 0.5600 - val_loss: 1.2550\n",
      "\u001b[1m13/13\u001b[0m \u001b[32m━━━━━━━━━━━━━━━━━━━━\u001b[0m\u001b[37m\u001b[0m \u001b[1m1s\u001b[0m 33ms/step\n"
     ]
    },
    {
     "name": "stderr",
     "output_type": "stream",
     "text": [
      "WARNING:absl:You are saving your model as an HDF5 file via `model.save()` or `keras.saving.save_model(model)`. This file format is considered legacy. We recommend using instead the native Keras format, e.g. `model.save('my_model.keras')` or `keras.saving.save_model(model, 'my_model.keras')`. \n"
     ]
    },
    {
     "name": "stdout",
     "output_type": "stream",
     "text": [
      "✅ rnn_bidirectional - F1: 0.5213\n"
     ]
    }
   ],
   "source": [
    "training_results = {}\n",
    "\n",
    "for name, config in configs.items():\n",
    "    print(f\"\\nTraining {name}...\")\n",
    "    \n",
    "    # Create and train\n",
    "    model = create_keras_rnn(vocab_size, num_classes, config)\n",
    "    \n",
    "    history = model.fit(\n",
    "        train_seq, train_labels,\n",
    "        validation_data=(val_seq, val_labels),\n",
    "        epochs=10, batch_size=32, verbose=1\n",
    "    )\n",
    "    \n",
    "    # Evaluate\n",
    "    y_pred = np.argmax(model.predict(test_seq), axis=1)\n",
    "    macro_f1 = f1_score(test_labels, y_pred, average='macro')\n",
    "    \n",
    "    # Save\n",
    "    model.save(f'../../models/{name}.h5')\n",
    "    \n",
    "    training_results[name] = {\n",
    "        'config': config,\n",
    "        'macro_f1': macro_f1,\n",
    "        'history': history.history\n",
    "    }\n",
    "    \n",
    "    print(f\"✅ {name} - F1: {macro_f1:.4f}\")"
   ]
  },
  {
   "cell_type": "markdown",
   "id": "5b00c260",
   "metadata": {},
   "source": [
    "## Compare models"
   ]
  },
  {
   "cell_type": "code",
   "execution_count": 19,
   "id": "ae693e00",
   "metadata": {},
   "outputs": [],
   "source": [
    "def compare_implementations(model_path, config, test_data):\n",
    "    \"\"\"Compare Keras vs from scratch\"\"\"\n",
    "    test_X, test_y = test_data\n",
    "    \n",
    "    # Load Keras model\n",
    "    keras_model = tf.keras.models.load_model(model_path)\n",
    "    \n",
    "    # Create scratch model\n",
    "    scratch_model = SimpleRNNModel(\n",
    "        vocab_size=vocab_size,\n",
    "        embedding_dim=128,\n",
    "        hidden_sizes=config['hidden_sizes'],\n",
    "        num_classes=num_classes,\n",
    "        bidirectional=config['bidirectional']\n",
    "    )\n",
    "    \n",
    "    # Load weights to scratch model\n",
    "    scratch_model.load_keras_weights(model_path)\n",
    "    \n",
    "    # Get predictions\n",
    "    keras_proba = keras_model.predict(test_X, verbose=0)\n",
    "    scratch_proba = scratch_model.predict_proba(test_X)\n",
    "    \n",
    "    keras_pred = np.argmax(keras_proba, axis=1)\n",
    "    scratch_pred = scratch_model.predict(test_X)\n",
    "    \n",
    "    # Calculate metrics\n",
    "    keras_f1 = f1_score(test_y, keras_pred, average='macro')\n",
    "    scratch_f1 = f1_score(test_y, scratch_pred, average='macro')\n",
    "    \n",
    "    max_diff = np.max(np.abs(keras_proba - scratch_proba))\n",
    "    agreement = np.mean(keras_pred == scratch_pred)\n",
    "    \n",
    "    \n",
    "    return {\n",
    "        'keras_f1': keras_f1,\n",
    "        'scratch_f1': scratch_f1,\n",
    "        'max_diff': max_diff,\n",
    "        'agreement': agreement\n",
    "    }"
   ]
  },
  {
   "cell_type": "code",
   "execution_count": 20,
   "id": "1ebb76eb",
   "metadata": {},
   "outputs": [
    {
     "name": "stderr",
     "output_type": "stream",
     "text": [
      "WARNING:absl:Compiled the loaded model, but the compiled metrics have yet to be built. `model.compile_metrics` will be empty until you train or evaluate the model.\n",
      "WARNING:absl:Compiled the loaded model, but the compiled metrics have yet to be built. `model.compile_metrics` will be empty until you train or evaluate the model.\n"
     ]
    },
    {
     "name": "stdout",
     "output_type": "stream",
     "text": [
      "\n",
      "Comparing rnn_1layer...\n",
      "Weights loaded from ../../models/rnn_1layer.h5\n"
     ]
    },
    {
     "name": "stderr",
     "output_type": "stream",
     "text": [
      "WARNING:absl:Compiled the loaded model, but the compiled metrics have yet to be built. `model.compile_metrics` will be empty until you train or evaluate the model.\n",
      "WARNING:absl:Compiled the loaded model, but the compiled metrics have yet to be built. `model.compile_metrics` will be empty until you train or evaluate the model.\n"
     ]
    },
    {
     "name": "stdout",
     "output_type": "stream",
     "text": [
      "  Keras F1: 0.4329\n",
      "  Scratch F1: 0.4329\n",
      "  Max diff: 0.000001\n",
      "  Agreement: 1.0000\n",
      "\n",
      "Comparing rnn_2layer...\n",
      "Weights loaded from ../../models/rnn_2layer.h5\n"
     ]
    },
    {
     "name": "stderr",
     "output_type": "stream",
     "text": [
      "WARNING:absl:Compiled the loaded model, but the compiled metrics have yet to be built. `model.compile_metrics` will be empty until you train or evaluate the model.\n",
      "WARNING:absl:Compiled the loaded model, but the compiled metrics have yet to be built. `model.compile_metrics` will be empty until you train or evaluate the model.\n"
     ]
    },
    {
     "name": "stdout",
     "output_type": "stream",
     "text": [
      "  Keras F1: 0.3913\n",
      "  Scratch F1: 0.3913\n",
      "  Max diff: 0.000003\n",
      "  Agreement: 1.0000\n",
      "\n",
      "Comparing rnn_3layer...\n",
      "Weights loaded from ../../models/rnn_3layer.h5\n"
     ]
    },
    {
     "name": "stderr",
     "output_type": "stream",
     "text": [
      "WARNING:absl:Compiled the loaded model, but the compiled metrics have yet to be built. `model.compile_metrics` will be empty until you train or evaluate the model.\n",
      "WARNING:absl:Compiled the loaded model, but the compiled metrics have yet to be built. `model.compile_metrics` will be empty until you train or evaluate the model.\n"
     ]
    },
    {
     "name": "stdout",
     "output_type": "stream",
     "text": [
      "  Keras F1: 0.4168\n",
      "  Scratch F1: 0.4168\n",
      "  Max diff: 0.000013\n",
      "  Agreement: 1.0000\n",
      "\n",
      "Comparing rnn_cells_32...\n",
      "Weights loaded from ../../models/rnn_cells_32.h5\n"
     ]
    },
    {
     "name": "stderr",
     "output_type": "stream",
     "text": [
      "WARNING:absl:Compiled the loaded model, but the compiled metrics have yet to be built. `model.compile_metrics` will be empty until you train or evaluate the model.\n",
      "WARNING:absl:Compiled the loaded model, but the compiled metrics have yet to be built. `model.compile_metrics` will be empty until you train or evaluate the model.\n"
     ]
    },
    {
     "name": "stdout",
     "output_type": "stream",
     "text": [
      "  Keras F1: 0.3849\n",
      "  Scratch F1: 0.3849\n",
      "  Max diff: 0.000002\n",
      "  Agreement: 1.0000\n",
      "\n",
      "Comparing rnn_cells_64...\n",
      "Weights loaded from ../../models/rnn_cells_64.h5\n"
     ]
    },
    {
     "name": "stderr",
     "output_type": "stream",
     "text": [
      "WARNING:absl:Compiled the loaded model, but the compiled metrics have yet to be built. `model.compile_metrics` will be empty until you train or evaluate the model.\n",
      "WARNING:absl:Compiled the loaded model, but the compiled metrics have yet to be built. `model.compile_metrics` will be empty until you train or evaluate the model.\n"
     ]
    },
    {
     "name": "stdout",
     "output_type": "stream",
     "text": [
      "  Keras F1: 0.3523\n",
      "  Scratch F1: 0.3523\n",
      "  Max diff: 0.000004\n",
      "  Agreement: 1.0000\n",
      "\n",
      "Comparing rnn_cells_128...\n",
      "Weights loaded from ../../models/rnn_cells_128.h5\n"
     ]
    },
    {
     "name": "stderr",
     "output_type": "stream",
     "text": [
      "WARNING:absl:Compiled the loaded model, but the compiled metrics have yet to be built. `model.compile_metrics` will be empty until you train or evaluate the model.\n",
      "WARNING:absl:Compiled the loaded model, but the compiled metrics have yet to be built. `model.compile_metrics` will be empty until you train or evaluate the model.\n"
     ]
    },
    {
     "name": "stdout",
     "output_type": "stream",
     "text": [
      "  Keras F1: 0.2346\n",
      "  Scratch F1: 0.2346\n",
      "  Max diff: 0.000000\n",
      "  Agreement: 1.0000\n",
      "\n",
      "Comparing rnn_unidirectional...\n",
      "Weights loaded from ../../models/rnn_unidirectional.h5\n"
     ]
    },
    {
     "name": "stderr",
     "output_type": "stream",
     "text": [
      "WARNING:absl:Compiled the loaded model, but the compiled metrics have yet to be built. `model.compile_metrics` will be empty until you train or evaluate the model.\n",
      "WARNING:absl:Compiled the loaded model, but the compiled metrics have yet to be built. `model.compile_metrics` will be empty until you train or evaluate the model.\n"
     ]
    },
    {
     "name": "stdout",
     "output_type": "stream",
     "text": [
      "  Keras F1: 0.3922\n",
      "  Scratch F1: 0.3922\n",
      "  Max diff: 0.000002\n",
      "  Agreement: 1.0000\n",
      "\n",
      "Comparing rnn_bidirectional...\n",
      "Weights loaded from ../../models/rnn_bidirectional.h5\n",
      "  Keras F1: 0.5213\n",
      "  Scratch F1: 0.5213\n",
      "  Max diff: 0.000004\n",
      "  Agreement: 1.0000\n"
     ]
    }
   ],
   "source": [
    "test_data = (test_seq, test_labels)\n",
    "comparison_results = {}\n",
    "\n",
    "for name, config in configs.items():\n",
    "    print(f\"\\nComparing {name}...\")\n",
    "    model_path = f'../../models/{name}.h5'\n",
    "    \n",
    "    result = compare_implementations(model_path, config, test_data)\n",
    "    comparison_results[name] = result\n",
    "    \n",
    "    print(f\"  Keras F1: {result['keras_f1']:.4f}\")\n",
    "    print(f\"  Scratch F1: {result['scratch_f1']:.4f}\")\n",
    "    print(f\"  Max diff: {result['max_diff']:.6f}\")\n",
    "    print(f\"  Agreement: {result['agreement']:.4f}\")"
   ]
  }
 ],
 "metadata": {
  "kernelspec": {
   "display_name": "Python 3",
   "language": "python",
   "name": "python3"
  },
  "language_info": {
   "codemirror_mode": {
    "name": "ipython",
    "version": 3
   },
   "file_extension": ".py",
   "mimetype": "text/x-python",
   "name": "python",
   "nbconvert_exporter": "python",
   "pygments_lexer": "ipython3",
   "version": "3.12.3"
  }
 },
 "nbformat": 4,
 "nbformat_minor": 5
}
